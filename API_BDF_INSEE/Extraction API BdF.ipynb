{
  "cells": [
    {
      "cell_type": "code",
      "execution_count": 1,
      "metadata": {
        "gather": {
          "logged": 1688032101963
        },
        "jupyter": {
          "outputs_hidden": false,
          "source_hidden": false
        },
        "nteract": {
          "transient": {
            "deleting": false
          }
        }
      },
      "outputs": [],
      "source": [
        "import json\n",
        "import pandas as pd\n",
        "import openpyxl \n",
        "import http.client\n",
        "import time \n",
        "import socket"
      ]
    },
    {
      "cell_type": "markdown",
      "metadata": {
        "nteract": {
          "transient": {
            "deleting": false
          }
        }
      },
      "source": [
        "### Récupérer tous les catalogues de jeux de données depuis l'API BdF"
      ]
    },
    {
      "cell_type": "code",
      "execution_count": 4,
      "metadata": {
        "gather": {
          "logged": 1688029850594
        },
        "jupyter": {
          "outputs_hidden": false,
          "source_hidden": false
        },
        "nteract": {
          "transient": {
            "deleting": false
          }
        }
      },
      "outputs": [],
      "source": [
        "''' API BDF ''' \n",
        "# https://developer.webstat.banque-france.fr/node/295\n",
        "\n",
        "conn = http.client.HTTPSConnection(\"api.webstat.banque-france.fr\")\n",
        "\n",
        "headers = {\n",
        "    'X-IBM-Client-Id': \"4a7786bb16188911b4cce4006fed2088\",\n",
        "    'accept': \"application/json\"\n",
        "    }\n",
        "\n",
        "conn.request(\"GET\", \"/webstat-fr/v1/catalogue?format=json\", headers=headers)\n",
        "\n",
        "res = conn.getresponse()\n",
        "data = res.read()\n",
        "\n",
        "text = data.decode(\"utf-8\")\n",
        "json_object = json.loads(text)\n",
        "df = pd.DataFrame(json_object)\n",
        "df.to_excel('data/result/bdf/bdf_datasets.xlsx', index = False)"
      ]
    },
    {
      "cell_type": "code",
      "execution_count": 5,
      "metadata": {
        "gather": {
          "logged": 1688029852645
        },
        "jupyter": {
          "outputs_hidden": false,
          "source_hidden": false
        },
        "nteract": {
          "transient": {
            "deleting": false
          }
        }
      },
      "outputs": [],
      "source": [
        "lst_data_1 = df['name'].iloc[:10].tolist()\n",
        "lst_data_2 = df['name'].iloc[10:20].tolist()\n",
        "lst_data_3 = df['name'].iloc[20:30].tolist()\n",
        "lst_data_4 = df['name'].iloc[30:40].tolist()\n",
        "lst_data_5 = df['name'].iloc[40:].tolist()\n",
        "\n"
      ]
    },
    {
      "cell_type": "code",
      "execution_count": 10,
      "metadata": {
        "gather": {
          "logged": 1688029854297
        },
        "jupyter": {
          "outputs_hidden": false,
          "source_hidden": false
        },
        "nteract": {
          "transient": {
            "deleting": false
          }
        }
      },
      "outputs": [
        {
          "name": "stdout",
          "output_type": "stream",
          "text": [
            "lst_data_1: ['DIREN', 'MIR1', 'DWA1', 'CONJ2', 'MNA', 'MIR', 'IVF1', 'AME', 'FCI', 'CFANF']\n",
            "lst_data_2: ['BPM6', 'EXR', 'ACPR', 'PEA', 'FATSO', 'CEFIT', 'BLS', 'OFC', 'QFAGG', 'TCN2']\n",
            "lst_data_3: ['DSE', 'ENDET', 'PME', 'ICB', 'RPP', 'GST', 'CONS', 'SC1', 'STS', 'CPP']\n",
            "lst_data_4: ['CFT', 'FM', 'SA', 'CONJ', 'ESTR', 'ECOFI', 'CDIS', 'CFTDC', 'CNF', 'ICP']\n",
            "lst_data_5: ['SEC', 'SI_AI', 'ESA', 'FTID', 'SAFE', 'BSI', 'RA_T', 'DET', 'BSI1']\n"
          ]
        }
      ],
      "source": [
        "for i in range(1, 6):\n",
        "    lst_name = f\"lst_data_{i}\"\n",
        "    print(f\"{lst_name}: {globals()[lst_name]}\")\n",
        "\n"
      ]
    },
    {
      "cell_type": "code",
      "execution_count": 52,
      "metadata": {
        "gather": {
          "logged": 1688029991578
        },
        "jupyter": {
          "outputs_hidden": false,
          "source_hidden": false
        },
        "nteract": {
          "transient": {
            "deleting": false
          }
        }
      },
      "outputs": [],
      "source": [
        "lst_data_1.remove('CONJ2')\n",
        "lst_data_1.remove('FM')"
      ]
    },
    {
      "cell_type": "markdown",
      "metadata": {
        "nteract": {
          "transient": {
            "deleting": false
          }
        }
      },
      "source": [
        "### Récupérer le contenu (indicateurs disponibles) des jeux de données "
      ]
    },
    {
      "cell_type": "markdown",
      "metadata": {
        "nteract": {
          "transient": {
            "deleting": false
          }
        }
      },
      "source": [
        "changer lst_data_1 pour lst_data_2, lst_data_3... "
      ]
    },
    {
      "cell_type": "code",
      "execution_count": 82,
      "metadata": {
        "gather": {
          "logged": 1688041602942
        },
        "jupyter": {
          "outputs_hidden": false,
          "source_hidden": false
        },
        "nteract": {
          "transient": {
            "deleting": false
          }
        }
      },
      "outputs": [
        {
          "ename": "KeyError",
          "evalue": "'datasetName'",
          "output_type": "error",
          "traceback": [
            "\u001b[0;31m---------------------------------------------------------------------------\u001b[0m",
            "\u001b[0;31mKeyError\u001b[0m                                  Traceback (most recent call last)",
            "Cell \u001b[0;32mIn[82], line 32\u001b[0m\n\u001b[1;32m     28\u001b[0m     \u001b[38;5;28;01mcontinue\u001b[39;00m\n\u001b[1;32m     31\u001b[0m time\u001b[38;5;241m.\u001b[39msleep(\u001b[38;5;241m5\u001b[39m)\n\u001b[0;32m---> 32\u001b[0m datasetName \u001b[38;5;241m=\u001b[39m \u001b[43mjson_ob\u001b[49m\u001b[43m[\u001b[49m\u001b[38;5;124;43m\"\u001b[39;49m\u001b[38;5;124;43mdatasetName\u001b[39;49m\u001b[38;5;124;43m\"\u001b[39;49m\u001b[43m]\u001b[49m  \u001b[38;5;66;03m# Nom du jeu de données\u001b[39;00m\n\u001b[1;32m     33\u001b[0m liste_cles \u001b[38;5;241m=\u001b[39m []\n\u001b[1;32m     36\u001b[0m \u001b[38;5;28;01mfor\u001b[39;00m serie \u001b[38;5;129;01min\u001b[39;00m json_ob[\u001b[38;5;124m\"\u001b[39m\u001b[38;5;124mseriesObs\u001b[39m\u001b[38;5;124m\"\u001b[39m]:\n",
            "\u001b[0;31mKeyError\u001b[0m: 'datasetName'"
          ]
        }
      ],
      "source": [
        "''' API BDF ''' \n",
        "#https://developer.webstat.banque-france.fr/node/295\n",
        "\n",
        "\n",
        "conn = http.client.HTTPSConnection(\"api.webstat.banque-france.fr\")\n",
        "\n",
        "headers = {\n",
        "    'X-IBM-Client-Id': \"b983b4cb-7e87-4c66-914c-c254ff3d9cfb\",\n",
        "    'accept': \"application/json\"\n",
        "    }\n",
        "\n",
        "df2 = pd.DataFrame()\n",
        "dataset_ko = []\n",
        "#for i in range(1,6):\n",
        "#    for name in globals()[f\"lst_data_{i}\"]:\n",
        "for name in lst_data_1:\n",
        "        liste_df = []\n",
        "        try:\n",
        "            conn.request(\"GET\", f'/webstat-fr/v1/data/{name}?format=json', headers=headers)\n",
        "            #conn.sock.settimeout(10)\n",
        "            res = conn.getresponse()\n",
        "            data = res.read()\n",
        "            sample = data.decode('utf-8')\n",
        "            json_ob = json.loads(sample)\n",
        "        except (http.client.HTTPException, json.JSONDecodeError, socket.timeout) as e:\n",
        "            print(f\"Erreur lors de la requête : {e}\")\n",
        "            dataset_ko.append(name)\n",
        "            continue\n",
        "            \n",
        "\n",
        "        time.sleep(5)\n",
        "        datasetName = json_ob[\"datasetName\"]  # Nom du jeu de données\n",
        "        liste_cles = []\n",
        "        \n",
        "\n",
        "        for serie in json_ob[\"seriesObs\"]:\n",
        "            title = serie[\"ObservationsSerie\"][\"title\"]\n",
        "            frequency = serie[\"ObservationsSerie\"][\"frequency\"]\n",
        "            observations = serie[\"ObservationsSerie\"][\"observations\"]\n",
        "        \n",
        "            \n",
        "            for observation in observations:\n",
        "                liste_cles = list(observation['ObservationPeriod'].keys())\n",
        "            \n",
        "            df2 = df2.append({\n",
        "            \"datasetName\": datasetName,\n",
        "            \"title\": title,\n",
        "            \"frequency\": frequency,\n",
        "            \"filtres\": liste_cles\n",
        "            }, ignore_index=True)\n",
        "\n",
        "   \n",
        "    \n",
        "\n",
        "\n",
        "df2.to_excel(f\"data_result/bdf/bdf_details_4.xlsx\", index=False)  # Enregistrer le DataFrame au format Excel\n",
        "\n",
        "# Confirmer que le fichier a été créé\n",
        "print(\"Le fichier a été généré avec succès.\")"
      ]
    },
    {
      "cell_type": "markdown",
      "metadata": {
        "nteract": {
          "transient": {
            "deleting": false
          }
        }
      },
      "source": [
        "### Fonction pour récupérer le contenu d'un dataset"
      ]
    },
    {
      "cell_type": "code",
      "execution_count": 11,
      "metadata": {
        "gather": {
          "logged": 1688043719172
        },
        "jupyter": {
          "outputs_hidden": false,
          "source_hidden": false
        },
        "nteract": {
          "transient": {
            "deleting": false
          }
        }
      },
      "outputs": [],
      "source": [
        "def getContent(df_name, title, path):\n",
        "    conn = http.client.HTTPSConnection(\"api.webstat.banque-france.fr\")\n",
        "\n",
        "    headers = {\n",
        "        'X-IBM-Client-Id': \"4a7786bb16188911b4cce4006fed2088\",\n",
        "        'accept': \"application/json\"\n",
        "        }\n",
        "\n",
        " \n",
        "    workbook = openpyxl.Workbook()\n",
        "\n",
        "    conn.request(\"GET\", f\"/webstat-fr/v1/data/{df_name}?format=json\", headers=headers)\n",
        "    res = conn.getresponse()\n",
        "    data = res.read()\n",
        "    sample = data.decode('utf-8')\n",
        "    json_ob = json.loads(sample)\n",
        "\n",
        "    datasetName = json_ob[\"datasetName\"]  # Nom du jeu de données\n",
        "\n",
        "    data = []\n",
        "    for serie in json_ob[\"seriesObs\"]:\n",
        "        obs_title = serie[\"ObservationsSerie\"][\"title\"]\n",
        "        if obs_title == 'Belgique, Indice de ventes au détail (CVS-CJO)':\n",
        "            observations = serie[\"ObservationsSerie\"][\"observations\"]\n",
        "            \n",
        "            for observation in observations:\n",
        "                period_id = observation[\"ObservationPeriod\"][\"periodId\"]\n",
        "                period_first_date = observation[\"ObservationPeriod\"][\"periodFirstDate\"]\n",
        "                period_name = observation[\"ObservationPeriod\"][\"periodName\"]\n",
        "                value = observation[\"ObservationPeriod\"][\"value\"]\n",
        "                \n",
        "                data.append({\n",
        "                    \"datasetName\": datasetName,\n",
        "                    \"title\": obs_title,\n",
        "                    \"periodId\": period_id,\n",
        "                    \"periodFirstDate\": period_first_date,\n",
        "                    \"periodName\": period_name,\n",
        "                    \"value\": value\n",
        "                })\n",
        "\n",
        "    df = pd.DataFrame(data)\n",
        "    df.to_excel(path+title+\".xlsx\",index=False)\n",
        "    return df "
      ]
    },
    {
      "cell_type": "code",
      "execution_count": 12,
      "metadata": {
        "gather": {
          "logged": 1688051484586
        },
        "jupyter": {
          "outputs_hidden": false,
          "source_hidden": false
        },
        "nteract": {
          "transient": {
            "deleting": false
          }
        }
      },
      "outputs": [],
      "source": [
        "df = getContent('STS',\"Belgique, Indice de ventes au détail (CVS-CJO)\",\"data/result/bdf/\" )"
      ]
    }
  ],
  "metadata": {
    "kernel_info": {
      "name": "python38-azureml"
    },
    "kernelspec": {
      "display_name": ".venv",
      "language": "python",
      "name": "python3"
    },
    "language_info": {
      "codemirror_mode": {
        "name": "ipython",
        "version": 3
      },
      "file_extension": ".py",
      "mimetype": "text/x-python",
      "name": "python",
      "nbconvert_exporter": "python",
      "pygments_lexer": "ipython3",
      "version": "3.12.1"
    },
    "microsoft": {
      "host": {
        "AzureML": {
          "notebookHasBeenCompleted": true
        }
      },
      "ms_spell_check": {
        "ms_spell_check_language": "en"
      }
    },
    "nteract": {
      "version": "nteract-front-end@1.0.0"
    }
  },
  "nbformat": 4,
  "nbformat_minor": 2
}
