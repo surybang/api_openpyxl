{
  "cells": [
    {
      "cell_type": "markdown",
      "metadata": {
        "nteract": {
          "transient": {
            "deleting": false
          }
        }
      },
      "source": [
        "# Extraction d'indicateurs de l'INSEE par API "
      ]
    },
    {
      "cell_type": "code",
      "execution_count": 24,
      "metadata": {
        "gather": {
          "logged": 1688050210354
        }
      },
      "outputs": [],
      "source": [
        "import pandas as pd\n",
        "from lxml import etree \n",
        "import requests\n",
        "import time \n",
        "import openpyxl \n",
        "import pickle "
      ]
    },
    {
      "cell_type": "code",
      "execution_count": 25,
      "metadata": {
        "gather": {
          "logged": 1688050212106
        },
        "jupyter": {
          "outputs_hidden": false,
          "source_hidden": false
        },
        "nteract": {
          "transient": {
            "deleting": false
          }
        }
      },
      "outputs": [],
      "source": [
        "def save_csv(lst,nom):    \n",
        "    df = pd.DataFrame(lst)\n",
        "    df.to_csv(f'/{nom}.csv')"
      ]
    },
    {
      "cell_type": "code",
      "execution_count": 26,
      "metadata": {},
      "outputs": [
        {
          "name": "stdout",
          "output_type": "stream",
          "text": [
            "{\"Nombre de défaillances d'entreprises par date de jugement - Cumul brut glissant sur 12 mois - Bourgogne-Franche-Comté - Agriculture, sylviculture et pêche\": '001740071', \"Nombre de défaillances d'entreprises par date de jugement - Cumul brut glissant sur 12 mois - Bourgogne-Franche-Comté - Industrie\": '001740072', \"Nombre de défaillances d'entreprises par date de jugement - Cumul brut glissant sur 12 mois - Bretagne - Agriculture, sylviculture et pêche\": '001655999', \"Nombre de défaillances d'entreprises par date de jugement - Cumul brut glissant sur 12 mois - Bretagne - Industrie\": '001656000', \"Nombre de défaillances d'entreprises par date de jugement - Cumul brut glissant sur 12 mois - Centre-Val de Loire - Agriculture, sylviculture et pêche\": '001656429', \"Nombre de défaillances d'entreprises par date de jugement - Cumul brut glissant sur 12 mois - Centre-Val de Loire - Industrie\": '001656430', \"Nombre de défaillances d'entreprises par date de jugement - Cumul brut glissant sur 12 mois - Corse - Agriculture, sylviculture et pêche\": '001656501', \"Nombre de défaillances d'entreprises par date de jugement - Cumul brut glissant sur 12 mois - Corse - Industrie\": '001656534', \"Nombre de défaillances d'entreprises par date de jugement - Cumul brut glissant sur 12 mois - Grand Est - Agriculture, sylviculture et pêche\": '1783.html', \"Nombre de défaillances d'entreprises par date de jugement - Cumul brut glissant sur 12 mois - Grand Est - Industrie\": '001740108', \"Nombre de défaillances d'entreprises par date de jugement - Cumul brut glissant sur 12 mois - Hauts-de-France - Agriculture, sylviculture et pêche\": 'aillances', \"Nombre de défaillances d'entreprises par date de jugement - Cumul brut glissant sur 12 mois - Hauts-de-France - Industrie\": '001740097', \"Nombre de défaillances d'entreprises par date de jugement - Cumul brut glissant sur 12 mois - Île-de-France - Agriculture, sylviculture et pêche\": 'aillances', \"Nombre de défaillances d'entreprises par date de jugement - Cumul brut glissant sur 12 mois - Île-de-France - Industrie\": '001656238', \"Nombre de défaillances d'entreprises par date de jugement - Cumul brut glissant sur 12 mois - Normandie - Agriculture, sylviculture et pêche\": '001740083', \"Nombre de défaillances d'entreprises par date de jugement - Cumul brut glissant sur 12 mois - Normandie - Industrie\": '001740084', \"Nombre de défaillances d'entreprises par date de jugement - Cumul brut glissant sur 12 mois - Nouvelle-Aquitaine - Agriculture, sylviculture et pêche\": 'aillances', \"Nombre de défaillances d'entreprises par date de jugement - Cumul brut glissant sur 12 mois - Nouvelle-Aquitaine - Industrie\": '001740120', \"Nombre de défaillances d'entreprises par date de jugement - Cumul brut glissant sur 12 mois - Occitanie - Agriculture, sylviculture et pêche\": '001740131', \"Nombre de défaillances d'entreprises par date de jugement - Cumul brut glissant sur 12 mois - Occitanie - Industrie\": '001740142', \"Nombre de défaillances d'entreprises par date de jugement - Cumul brut glissant sur 12 mois - Pays de la Loire - Agriculture, sylviculture et pêche\": '001656429', \"Nombre de défaillances d'entreprises par date de jugement - Cumul brut glissant sur 12 mois - Pays de la Loire - Industrie\": '001655952', \"Nombre de défaillances d'entreprises par date de jugement - Cumul brut glissant sur 12 mois - Provence-Alpes-Côte d'Azur - Agriculture, sylviculture et pêche\": '001656453', \"Nombre de défaillances d'entreprises par date de jugement - Cumul brut glissant sur 12 mois - Provence-Alpes-Côte d'Azur - Industrie\": '001656454', \"Nombre de défaillances d'entreprises par date de jugement - Cumul brut glissant sur 12 mois - Auvergne-Rhône-Alpes - Agriculture, sylviculture et pêche\": '001740143', \"Nombre de défaillances d'entreprises par date de jugement - Cumul brut glissant sur 12 mois - Auvergne-Rhône-Alpes - Industrie\": '001740154', \"Nombre de défaillances d'entreprises par date de jugement - Cumul brut glissant sur 12 mois - Bourgogne-Franche-Comté - Commerce et réparation automobile\": '001740074', \"Nombre de défaillances d'entreprises par date de jugement - Cumul brut glissant sur 12 mois - Bourgogne-Franche-Comté - Construction\": '001740077', \"Nombre de défaillances d'entreprises par date de jugement - Cumul brut glissant sur 12 mois - Bretagne - Commerce et réparation automobile\": '001656002', \"Nombre de défaillances d'entreprises par date de jugement - Cumul brut glissant sur 12 mois - Bretagne - Construction\": '001656001', \"Nombre de défaillances d'entreprises par date de jugement - Cumul brut glissant sur 12 mois - Centre-Val de Loire - Commerce et réparation automobile\": '001655954', \"Nombre de défaillances d'entreprises par date de jugement - Cumul brut glissant sur 12 mois - Centre-Val de Loire - Construction\": '001656431', \"Nombre de défaillances d'entreprises par date de jugement - Cumul brut glissant sur 12 mois - Corse - Commerce et réparation automobile\": '001656534', \"Nombre de défaillances d'entreprises par date de jugement - Cumul brut glissant sur 12 mois - Corse - Construction\": '001656503', \"Nombre de défaillances d'entreprises par date de jugement - Cumul brut glissant sur 12 mois - Grand Est - Commerce et réparation automobile\": 'aillances', \"Nombre de défaillances d'entreprises par date de jugement - Cumul brut glissant sur 12 mois - Grand Est - Construction\": '001740097', \"Nombre de défaillances d'entreprises par date de jugement - Cumul brut glissant sur 12 mois - Hauts-de-France - Commerce et réparation automobile\": '001740098', \"Nombre de défaillances d'entreprises par date de jugement - Cumul brut glissant sur 12 mois - Hauts-de-France - Construction\": '001740097', \"Nombre de défaillances d'entreprises par date de jugement - Cumul brut glissant sur 12 mois - Île-de-France - Commerce et réparation automobile\": '001656240', \"Nombre de défaillances d'entreprises par date de jugement - Cumul brut glissant sur 12 mois - Île-de-France - Construction\": '001656095', \"Nombre de défaillances d'entreprises par date de jugement - Cumul brut glissant sur 12 mois - Normandie - Commerce et réparation automobile\": '001740086', \"Nombre de défaillances d'entreprises par date de jugement - Cumul brut glissant sur 12 mois - Normandie - Construction\": '_2022.pdf', \"Nombre de défaillances d'entreprises par date de jugement - Cumul brut glissant sur 12 mois - Nouvelle-Aquitaine - Commerce et réparation automobile\": '001740122', \"Nombre de défaillances d'entreprises par date de jugement - Cumul brut glissant sur 12 mois - Nouvelle-Aquitaine - Construction\": '001740120', \"Nombre de défaillances d'entreprises par date de jugement - Cumul brut glissant sur 12 mois - Occitanie - Commerce et réparation automobile\": '001740142', \"Nombre de défaillances d'entreprises par date de jugement - Cumul brut glissant sur 12 mois - Occitanie - Construction\": '001740142', \"Nombre de défaillances d'entreprises par date de jugement - Cumul brut glissant sur 12 mois - Pays de la Loire - Commerce et réparation automobile\": '001655954', \"Nombre de défaillances d'entreprises par date de jugement - Cumul brut glissant sur 12 mois - Pays de la Loire - Construction\": '001655953', \"Nombre de défaillances d'entreprises par date de jugement - Cumul brut glissant sur 12 mois - Provence-Alpes-Côte d'Azur - Commerce et réparation automobile\": '001656456', \"Nombre de défaillances d'entreprises par date de jugement - Cumul brut glissant sur 12 mois - Provence-Alpes-Côte d'Azur - Construction\": '001656455', \"Nombre de défaillances d'entreprises par date de jugement - Cumul brut glissant sur 12 mois - Auvergne-Rhône-Alpes - Commerce et réparation automobile\": '001740146', \"Nombre de défaillances d'entreprises par date de jugement - Cumul brut glissant sur 12 mois - Auvergne-Rhône-Alpes - Construction\": '001740145', \"Nombre de défaillances d'entreprises par date de jugement - Cumul brut glissant sur 12 mois - Bourgogne-Franche-Comté - Hébergement et restauration\": '001740076', \"Nombre de défaillances d'entreprises par date de jugement - Cumul brut glissant sur 12 mois - Bourgogne-Franche-Comté - Transports et entreposage\": 'stre-2022', \"Nombre de défaillances d'entreprises par date de jugement - Cumul brut glissant sur 12 mois - Bretagne - Hébergement et restauration\": '001656004', \"Nombre de défaillances d'entreprises par date de jugement - Cumul brut glissant sur 12 mois - Bretagne - Transports et entreposage\": '001740111', \"Nombre de défaillances d'entreprises par date de jugement - Cumul brut glissant sur 12 mois - Centre-Val de Loire - Hébergement et restauration\": '001656434', \"Nombre de défaillances d'entreprises par date de jugement - Cumul brut glissant sur 12 mois - Centre-Val de Loire - Transports et entreposage\": '001656433', \"Nombre de défaillances d'entreprises par date de jugement - Cumul brut glissant sur 12 mois - Corse - Hébergement et restauration\": '001656507', \"Nombre de défaillances d'entreprises par date de jugement - Cumul brut glissant sur 12 mois - Corse - Transports et entreposage\": '001656534', \"Nombre de défaillances d'entreprises par date de jugement - Cumul brut glissant sur 12 mois - Grand Est - Hébergement et restauration\": 'aillances', \"Nombre de défaillances d'entreprises par date de jugement - Cumul brut glissant sur 12 mois - Grand Est - Transports et entreposage\": '1783.html', \"Nombre de défaillances d'entreprises par date de jugement - Cumul brut glissant sur 12 mois - Hauts-de-France - Hébergement et restauration\": 'aillances', \"Nombre de défaillances d'entreprises par date de jugement - Cumul brut glissant sur 12 mois - Hauts-de-France - Transports et entreposage\": 'aillances', \"Nombre de défaillances d'entreprises par date de jugement - Cumul brut glissant sur 12 mois - Île-de-France - Hébergement et restauration\": '001656098', \"Nombre de défaillances d'entreprises par date de jugement - Cumul brut glissant sur 12 mois - Île-de-France - Transports et entreposage\": 'aillances', \"Nombre de défaillances d'entreprises par date de jugement - Cumul brut glissant sur 12 mois - Normandie - Hébergement et restauration\": 'aillances', \"Nombre de défaillances d'entreprises par date de jugement - Cumul brut glissant sur 12 mois - Normandie - Transports et entreposage\": '_2022.pdf', \"Nombre de défaillances d'entreprises par date de jugement - Cumul brut glissant sur 12 mois - Nouvelle-Aquitaine - Hébergement et restauration\": '001740120', \"Nombre de défaillances d'entreprises par date de jugement - Cumul brut glissant sur 12 mois - Nouvelle-Aquitaine - Transports et entreposage\": '50c7e4353', \"Nombre de défaillances d'entreprises par date de jugement - Cumul brut glissant sur 12 mois - Occitanie - Hébergement et restauration\": 'aillances', \"Nombre de défaillances d'entreprises par date de jugement - Cumul brut glissant sur 12 mois - Occitanie - Transports et entreposage\": 'aillances', \"Nombre de défaillances d'entreprises par date de jugement - Cumul brut glissant sur 12 mois - Pays de la Loire - Hébergement et restauration\": '001655956', \"Nombre de défaillances d'entreprises par date de jugement - Cumul brut glissant sur 12 mois - Pays de la Loire - Transports et entreposage\": '001655955', \"Nombre de défaillances d'entreprises par date de jugement - Cumul brut glissant sur 12 mois - Provence-Alpes-Côte d'Azur - Hébergement et restauration\": '001656458', \"Nombre de défaillances d'entreprises par date de jugement - Cumul brut glissant sur 12 mois - Provence-Alpes-Côte d'Azur - Transports et entreposage\": '001656457', \"Nombre de défaillances d'entreprises par date de jugement - Cumul brut glissant sur 12 mois - Auvergne-Rhône-Alpes - Hébergement et restauration\": '001740148', \"Nombre de défaillances d'entreprises par date de jugement - Cumul brut glissant sur 12 mois - Auvergne-Rhône-Alpes - Transports et entreposage\": '001740147', \"Nombre de défaillances d'entreprises par date de jugement - Cumul brut glissant sur 12 mois - Bourgogne-Franche-Comté - Activités financières et d'assurance\": '001740079', \"Nombre de défaillances d'entreprises par date de jugement - Cumul brut glissant sur 12 mois - Bourgogne-Franche-Comté - Information et communication\": 'stre-2022', \"Nombre de défaillances d'entreprises par date de jugement - Cumul brut glissant sur 12 mois - Bretagne - Activités financières et d'assurance\": '001656007', \"Nombre de défaillances d'entreprises par date de jugement - Cumul brut glissant sur 12 mois - Bretagne - Information et communication\": '001656006', \"Nombre de défaillances d'entreprises par date de jugement - Cumul brut glissant sur 12 mois - Centre-Val de Loire - Activités financières et d'assurance\": '001656436', \"Nombre de défaillances d'entreprises par date de jugement - Cumul brut glissant sur 12 mois - Centre-Val de Loire - Information et communication\": '001656435', \"Nombre de défaillances d'entreprises par date de jugement - Cumul brut glissant sur 12 mois - Corse - Activités financières et d'assurance\": '001656506', \"Nombre de défaillances d'entreprises par date de jugement - Cumul brut glissant sur 12 mois - Corse - Information et communication\": '001656534', \"Nombre de défaillances d'entreprises par date de jugement - Cumul brut glissant sur 12 mois - Grand Est - Activités financières et d'assurance\": '001740117', \"Nombre de défaillances d'entreprises par date de jugement - Cumul brut glissant sur 12 mois - Grand Est - Information et communication\": 'aillances', \"Nombre de défaillances d'entreprises par date de jugement - Cumul brut glissant sur 12 mois - Hauts-de-France - Activités financières et d'assurance\": '001740103', \"Nombre de défaillances d'entreprises par date de jugement - Cumul brut glissant sur 12 mois - Hauts-de-France - Information et communication\": '001740102', \"Nombre de défaillances d'entreprises par date de jugement - Cumul brut glissant sur 12 mois - Île-de-France - Activités financières et d'assurance\": '001656244', \"Nombre de défaillances d'entreprises par date de jugement - Cumul brut glissant sur 12 mois - Île-de-France - Information et communication\": '001656244', \"Nombre de défaillances d'entreprises par date de jugement - Cumul brut glissant sur 12 mois - Normandie - Activités financières et d'assurance\": '001740094', \"Nombre de défaillances d'entreprises par date de jugement - Cumul brut glissant sur 12 mois - Normandie - Information et communication\": '001740090', \"Nombre de défaillances d'entreprises par date de jugement - Cumul brut glissant sur 12 mois - Nouvelle-Aquitaine - Activités financières et d'assurance\": '001740120', \"Nombre de défaillances d'entreprises par date de jugement - Cumul brut glissant sur 12 mois - Nouvelle-Aquitaine - Information et communication\": '001740126', \"Nombre de défaillances d'entreprises par date de jugement - Cumul brut glissant sur 12 mois - Occitanie - Activités financières et d'assurance\": '001740142', \"Nombre de défaillances d'entreprises par date de jugement - Cumul brut glissant sur 12 mois - Occitanie - Information et communication\": '001740138', \"Nombre de défaillances d'entreprises par date de jugement - Cumul brut glissant sur 12 mois - Pays de la Loire - Activités financières et d'assurance\": '001655958', \"Nombre de défaillances d'entreprises par date de jugement - Cumul brut glissant sur 12 mois - Pays de la Loire - Information et communication\": 'ur-un-an/', \"Nombre de défaillances d'entreprises par date de jugement - Cumul brut glissant sur 12 mois - Provence-Alpes-Côte d'Azur - Activités financières et d'assurance\": '001656460', \"Nombre de défaillances d'entreprises par date de jugement - Cumul brut glissant sur 12 mois - Provence-Alpes-Côte d'Azur - Information et communication\": '001656459', \"Nombre de défaillances d'entreprises par date de jugement - Cumul brut glissant sur 12 mois - Auvergne-Rhône-Alpes - Activités financières et d'assurance\": '001740154', \"Nombre de défaillances d'entreprises par date de jugement - Cumul brut glissant sur 12 mois - Auvergne-Rhône-Alpes - Information et communication\": '001740150', \"Nombre de défaillances d'entreprises par date de jugement - Cumul brut glissant sur 12 mois - Bourgogne-Franche-Comté - Enseignement, santé humaine, action sociale et services aux ménages\": '001740080', \"Nombre de défaillances d'entreprises par date de jugement - Cumul brut glissant sur 12 mois - Bourgogne-Franche-Comté - Soutien aux entreprises\": '001740077', \"Nombre de défaillances d'entreprises par date de jugement - Cumul brut glissant sur 12 mois - Bretagne - Enseignement, santé humaine, action sociale et services aux ménages\": '001656001', \"Nombre de défaillances d'entreprises par date de jugement - Cumul brut glissant sur 12 mois - Bretagne - Soutien aux entreprises\": '001656005', \"Nombre de défaillances d'entreprises par date de jugement - Cumul brut glissant sur 12 mois - Centre-Val de Loire - Enseignement, santé humaine, action sociale et services aux ménages\": '001656462', \"Nombre de défaillances d'entreprises par date de jugement - Cumul brut glissant sur 12 mois - Centre-Val de Loire - Soutien aux entreprises\": '001656438', \"Nombre de défaillances d'entreprises par date de jugement - Cumul brut glissant sur 12 mois - Corse - Enseignement, santé humaine, action sociale et services aux ménages\": '001656535', \"Nombre de défaillances d'entreprises par date de jugement - Cumul brut glissant sur 12 mois - Corse - Soutien aux entreprises\": '001656534', \"Nombre de défaillances d'entreprises par date de jugement - Cumul brut glissant sur 12 mois - Grand Est - Enseignement, santé humaine, action sociale et services aux ménages\": '001740117', \"Nombre de défaillances d'entreprises par date de jugement - Cumul brut glissant sur 12 mois - Grand Est - Soutien aux entreprises\": '001740113', \"Nombre de défaillances d'entreprises par date de jugement - Cumul brut glissant sur 12 mois - Hauts-de-France - Enseignement, santé humaine, action sociale et services aux ménages\": 'e-france/', \"Nombre de défaillances d'entreprises par date de jugement - Cumul brut glissant sur 12 mois - Hauts-de-France - Soutien aux entreprises\": '001740102', \"Nombre de défaillances d'entreprises par date de jugement - Cumul brut glissant sur 12 mois - Île-de-France - Enseignement, santé humaine, action sociale et services aux ménages\": '001656271', \"Nombre de défaillances d'entreprises par date de jugement - Cumul brut glissant sur 12 mois - Île-de-France - Soutien aux entreprises\": '001656242', \"Nombre de défaillances d'entreprises par date de jugement - Cumul brut glissant sur 12 mois - Normandie - Enseignement, santé humaine, action sociale et services aux ménages\": '001740093', \"Nombre de défaillances d'entreprises par date de jugement - Cumul brut glissant sur 12 mois - Normandie - Soutien aux entreprises\": '001740089', \"Nombre de défaillances d'entreprises par date de jugement - Cumul brut glissant sur 12 mois - Nouvelle-Aquitaine - Enseignement, santé humaine, action sociale et services aux ménages\": '001740129', \"Nombre de défaillances d'entreprises par date de jugement - Cumul brut glissant sur 12 mois - Nouvelle-Aquitaine - Soutien aux entreprises\": '001740125', \"Nombre de défaillances d'entreprises par date de jugement - Cumul brut glissant sur 12 mois - Occitanie - Enseignement, santé humaine, action sociale et services aux ménages\": '001740117', \"Nombre de défaillances d'entreprises par date de jugement - Cumul brut glissant sur 12 mois - Occitanie - Soutien aux entreprises\": '001740137', \"Nombre de défaillances d'entreprises par date de jugement - Cumul brut glissant sur 12 mois - Pays de la Loire - Enseignement, santé humaine, action sociale et services aux ménages\": '001655985', \"Nombre de défaillances d'entreprises par date de jugement - Cumul brut glissant sur 12 mois - Pays de la Loire - Soutien aux entreprises\": '001655960', \"Nombre de défaillances d'entreprises par date de jugement - Cumul brut glissant sur 12 mois - Provence-Alpes-Côte d'Azur - Enseignement, santé humaine, action sociale et services aux ménages\": '001656487', \"Nombre de défaillances d'entreprises par date de jugement - Cumul brut glissant sur 12 mois - Provence-Alpes-Côte d'Azur - Soutien aux entreprises\": '001656486', \"Nombre de défaillances d'entreprises par date de jugement - Cumul brut glissant sur 12 mois - Auvergne-Rhône-Alpes - Enseignement, santé humaine, action sociale et services aux ménages\": '001740154', \"Nombre de défaillances d'entreprises par date de jugement - Cumul brut glissant sur 12 mois - Auvergne-Rhône-Alpes - Soutien aux entreprises\": '001740149', \"Nombre de défaillances d'entreprises par date de jugement - Cumul brut glissant sur 12 mois - Auvergne-Rhône-Alpes - Activités immobilières\": '001740152', \"Nombre de défaillances d'entreprises par date de jugement - Cumul brut glissant sur 12 mois - Bourgogne-Franche-Comté - Activités immobilières\": '001740080', \"Nombre de défaillances d'entreprises par date de jugement - Cumul brut glissant sur 12 mois - Bretagne - Activités immobilières\": '001656034', \"Nombre de défaillances d'entreprises par date de jugement - Cumul brut glissant sur 12 mois - Centre-Val de Loire - Activités immobilières\": '001656437', \"Nombre de défaillances d'entreprises par date de jugement - Cumul brut glissant sur 12 mois - Corse - Activités immobilières\": '001656533', \"Nombre de défaillances d'entreprises par date de jugement - Cumul brut glissant sur 12 mois - Grand Est - Activités immobilières\": '001740118', \"Nombre de défaillances d'entreprises par date de jugement - Cumul brut glissant sur 12 mois - Hauts-de-France - Activités immobilières\": 'e-france/', \"Nombre de défaillances d'entreprises par date de jugement - Cumul brut glissant sur 12 mois - Île-de-France - Activités immobilières\": '001656102', \"Nombre de défaillances d'entreprises par date de jugement - Cumul brut glissant sur 12 mois - Normandie - Activités immobilières\": '001740092', \"Nombre de défaillances d'entreprises par date de jugement - Cumul brut glissant sur 12 mois - Nouvelle-Aquitaine - Activités immobilières\": '001740130', \"Nombre de défaillances d'entreprises par date de jugement - Cumul brut glissant sur 12 mois - Occitanie - Activités immobilières\": '001740140', \"Nombre de défaillances d'entreprises par date de jugement - Cumul brut glissant sur 12 mois - Pays de la Loire - Activités immobilières\": '001655959', \"Nombre de défaillances d'entreprises par date de jugement - Cumul brut glissant sur 12 mois - Provence-Alpes-Côte d'Azur - Activités immobilières\": '001656461'}\n"
          ]
        }
      ],
      "source": [
        "\n",
        "chemin_fichier = 'data/dict/Dict_defaillance_identifiant.pickle'\n",
        "with open(chemin_fichier, 'rb') as fichier:\n",
        "    objet = pickle.load(fichier)\n",
        "    \n",
        "print(objet)\n"
      ]
    },
    {
      "cell_type": "code",
      "execution_count": 27,
      "metadata": {
        "gather": {
          "logged": 1688052255196
        },
        "jupyter": {
          "outputs_hidden": false,
          "source_hidden": false
        },
        "nteract": {
          "transient": {
            "deleting": false
          }
        }
      },
      "outputs": [],
      "source": [
        "with open('data/dict/Dict_defaillance_identifiant.pickle','rb') as pickle_file:\n",
        "    content = pickle.load(pickle_file)\n",
        "    \n",
        "    liste_siren = []\n",
        "    liste_ko_siren = []\n",
        "    liste_nom_indicateurs = []\n",
        "    \n",
        "    for cle, valeur in content.items():\n",
        "            if valeur[0:2] != '00': \n",
        "                liste_ko_siren.append(cle)\n",
        "                \n",
        "            else :\n",
        "                 liste_nom_indicateurs.append(cle)\n",
        "                 liste_siren.append(valeur)"
      ]
    },
    {
      "cell_type": "code",
      "execution_count": 28,
      "metadata": {},
      "outputs": [
        {
          "name": "stdout",
          "output_type": "stream",
          "text": [
            "001740071\n",
            "001740072\n",
            "001655999\n",
            "001656000\n",
            "001656429\n",
            "001656430\n",
            "001656501\n",
            "001656534\n",
            "001740108\n",
            "001740097\n",
            "001656238\n",
            "001740083\n",
            "001740084\n",
            "001740120\n",
            "001740131\n",
            "001740142\n",
            "001656429\n",
            "001655952\n",
            "001656453\n",
            "001656454\n",
            "001740143\n",
            "001740154\n",
            "001740074\n",
            "001740077\n",
            "001656002\n",
            "001656001\n",
            "001655954\n",
            "001656431\n",
            "001656534\n",
            "001656503\n",
            "001740097\n",
            "001740098\n",
            "001740097\n",
            "001656240\n",
            "001656095\n",
            "001740086\n",
            "001740122\n",
            "001740120\n",
            "001740142\n",
            "001740142\n",
            "001655954\n",
            "001655953\n",
            "001656456\n",
            "001656455\n",
            "001740146\n",
            "001740145\n",
            "001740076\n",
            "001656004\n",
            "001740111\n",
            "001656434\n",
            "001656433\n",
            "001656507\n",
            "001656534\n",
            "001656098\n",
            "001740120\n",
            "001655956\n",
            "001655955\n",
            "001656458\n",
            "001656457\n",
            "001740148\n",
            "001740147\n",
            "001740079\n",
            "001656007\n",
            "001656006\n",
            "001656436\n",
            "001656435\n",
            "001656506\n",
            "001656534\n",
            "001740117\n",
            "001740103\n",
            "001740102\n",
            "001656244\n",
            "001656244\n",
            "001740094\n",
            "001740090\n",
            "001740120\n",
            "001740126\n",
            "001740142\n",
            "001740138\n",
            "001655958\n",
            "001656460\n",
            "001656459\n",
            "001740154\n",
            "001740150\n",
            "001740080\n",
            "001740077\n",
            "001656001\n",
            "001656005\n",
            "001656462\n",
            "001656438\n",
            "001656535\n",
            "001656534\n",
            "001740117\n",
            "001740113\n",
            "001740102\n",
            "001656271\n",
            "001656242\n",
            "001740093\n",
            "001740089\n",
            "001740129\n",
            "001740125\n",
            "001740117\n",
            "001740137\n",
            "001655985\n",
            "001655960\n",
            "001656487\n",
            "001656486\n",
            "001740154\n",
            "001740149\n",
            "001740152\n",
            "001740080\n",
            "001656034\n",
            "001656437\n",
            "001656533\n",
            "001740118\n",
            "001656102\n",
            "001740092\n",
            "001740130\n",
            "001740140\n",
            "001655959\n",
            "001656461\n"
          ]
        }
      ],
      "source": [
        "for e in liste_siren:\n",
        "    print(e)"
      ]
    },
    {
      "cell_type": "code",
      "execution_count": 29,
      "metadata": {
        "gather": {
          "logged": 1688052258680
        },
        "jupyter": {
          "outputs_hidden": false,
          "source_hidden": false
        },
        "nteract": {
          "transient": {
            "deleting": false
          }
        }
      },
      "outputs": [],
      "source": [
        "with open('data/dict/Dict_indices_prix_identifiant.pickle','rb') as pickle_file2:\n",
        "    content2 = pickle.load(pickle_file2)\n",
        "    liste_siren2    = []\n",
        "    liste_ko_siren2 = []\n",
        "    liste_nom_indicateurs2 = []\n",
        "        \n",
        "    for cle, valeur in content2.items():\n",
        "            if (valeur[0:2] not in ('00','01','10')): \n",
        "                liste_ko_siren2.append(cle)\n",
        "            else :\n",
        "                liste_nom_indicateurs2.append(cle)\n",
        "                liste_siren2.append(valeur)"
      ]
    },
    {
      "cell_type": "code",
      "execution_count": 31,
      "metadata": {},
      "outputs": [
        {
          "name": "stdout",
          "output_type": "stream",
          "text": [
            "Nombre de défaillances d'entreprises par date de jugement - Cumul brut glissant sur 12 mois - Bourgogne-Franche-Comté - Industrie\n"
          ]
        }
      ],
      "source": [
        "print(liste_nom_indicateurs[1])"
      ]
    },
    {
      "cell_type": "markdown",
      "metadata": {
        "nteract": {
          "transient": {
            "deleting": false
          }
        }
      },
      "source": [
        "### Extraction défaillances -> defaillances.xlsx"
      ]
    },
    {
      "cell_type": "code",
      "execution_count": 34,
      "metadata": {
        "gather": {
          "logged": 1688049320484
        },
        "jupyter": {
          "outputs_hidden": false,
          "source_hidden": false
        },
        "nteract": {
          "transient": {
            "deleting": false
          }
        }
      },
      "outputs": [
        {
          "name": "stdout",
          "output_type": "stream",
          "text": [
            "Le fichier data/result/insee/defaillances_api.xlsx a été généré avec succès.\n"
          ]
        }
      ],
      "source": [
        "# Replace YOUR_API_KEY with your actual API key\n",
        "api_key = '58dad6a7-7e27-30ee-9da8-b25c54b7888e'\n",
        "# Set the headers with the API key\n",
        "headers = {\n",
        "    'Authorization': f\"Bearer {api_key}\",\n",
        "    'Accept':'application/xml'\n",
        "}\n",
        "\n",
        "# Créer un nouveau classeur Excel\n",
        "workbook = openpyxl.Workbook()\n",
        "\n",
        "for siren_number,title in zip(liste_siren,liste_nom_indicateurs):\n",
        "    data = []\n",
        "    url = f\"https://api.insee.fr/series/BDM/V1/data/SERIES_BDM/{siren_number}\"  \n",
        "\n",
        "    time.sleep(3)\n",
        "\n",
        "    # Make a GET request to the INSEE API\n",
        "    response = requests.get(url, headers=headers)\n",
        "    resultat = response.content \n",
        "    root = etree.XML(resultat) \n",
        "    try:\n",
        "        for elem in root[1]:\n",
        "            # Parcourir le dataset\n",
        "            for obs in elem :\n",
        "            # Récupérer les attributs de chaque observation\n",
        "                attributes = obs.attrib\n",
        "                attributes[\"OBS_VALUE\"] = attributes[\"OBS_VALUE\"]\n",
        "                data.append(attributes)\n",
        "\n",
        "        # Créer un dataframe à partir de la liste de données\n",
        "        df_response = pd.DataFrame(data)\n",
        "    except IndexError:\n",
        "        print(f\"Erreur d'index pour le SIREN {siren_number}. Le traitement sera ignoré.\")\n",
        "        liste_siren.remove(siren_number)\n",
        "        liste_ko_siren.append(siren_number)\n",
        "\n",
        "    # Créer un nouvel onglet pour chaque indicateur\n",
        "    worksheet = workbook.create_sheet(title=siren_number)\n",
        "    \n",
        "    title_row = 1\n",
        "    worksheet.cell(row=title_row, column=8, value=title)  # Placer le titre dans la colonne H\n",
        "    worksheet.merge_cells(start_row=title_row, start_column=8, end_row=title_row, end_column=17)  # Fusionner les cellules de H à Q\n",
        "    worksheet.cell(row=title_row, column=8).alignment = openpyxl.styles.Alignment(horizontal='center', vertical='center', wrap_text=True)  # Activer le renvoi à la ligne automatique\n",
        "    # Écrire les en-têtes de colonne dans la première ligne de l'onglet\n",
        "    header_row = 2\n",
        "    for col_idx, column_name in enumerate(df_response.columns, start=1):\n",
        "        cell = worksheet.cell(row=header_row, column=col_idx)\n",
        "        cell.value = column_name\n",
        "\n",
        "    # Écrire les données du dataframe dans les lignes suivantes\n",
        "    data_rows = df_response.to_numpy().tolist()\n",
        "    start_row = header_row + 1\n",
        "    for row_idx, row_data in enumerate(data_rows, start=start_row):\n",
        "        for col_idx, cell_value in enumerate(row_data, start=1):\n",
        "            cell = worksheet.cell(row=row_idx, column=col_idx)\n",
        "            cell.value = cell_value\n",
        "\n",
        "# Supprimer la feuille par défaut\n",
        "workbook.remove(workbook[\"Sheet\"])\n",
        "\n",
        "# Enregistrer le classeur Excel avec le nom \"données_api.xlsx\"\n",
        "output_file = (\"data/result/insee/defaillances_api.xlsx\")\n",
        "workbook.save(output_file)\n",
        "\n",
        "# Confirmer que le fichier a été créé\n",
        "print(f\"Le fichier {output_file} a été généré avec succès.\")"
      ]
    },
    {
      "cell_type": "code",
      "execution_count": 30,
      "metadata": {
        "gather": {
          "logged": 1688052264150
        },
        "jupyter": {
          "outputs_hidden": false,
          "source_hidden": false
        },
        "nteract": {
          "transient": {
            "deleting": false
          }
        }
      },
      "outputs": [],
      "source": [
        "# on récupère les siren pour lesquels il n'y a pas d'informations \n",
        "save_csv(liste_ko_siren,\"liste_ko_1\")\n",
        "save_csv(liste_ko_siren2,\"liste_ko_2\")"
      ]
    },
    {
      "cell_type": "markdown",
      "metadata": {
        "nteract": {
          "transient": {
            "deleting": false
          }
        }
      },
      "source": [
        "### Extraction pour le fichier 2 \n",
        "indicateurs_prix.xlsx"
      ]
    },
    {
      "cell_type": "code",
      "execution_count": 35,
      "metadata": {},
      "outputs": [
        {
          "name": "stdout",
          "output_type": "stream",
          "text": [
            "Erreur HTTP: 404 Client Error:  for url: https://api.insee.fr/series/BDM/V1/data/SERIES_BDM/010539854\n",
            "Erreur HTTP: 404 Client Error:  for url: https://api.insee.fr/series/BDM/V1/data/SERIES_BDM/010539490\n",
            "Erreur HTTP: 404 Client Error:  for url: https://api.insee.fr/series/BDM/V1/data/SERIES_BDM/109940795\n",
            "Le fichier indicateurs_prix.xlsx a été généré avec succès.\n",
            "Les requêtes pour les SIREN suivants ont échoué ou n'ont retourné aucune donnée :\n",
            "010539854\n",
            "010539490\n",
            "109940795\n"
          ]
        }
      ],
      "source": [
        "import requests\n",
        "import time\n",
        "import pandas as pd\n",
        "import openpyxl\n",
        "from lxml import etree\n",
        "import sys\n",
        "\n",
        "api_key = '58dad6a7-7e27-30ee-9da8-b25c54b7888e'\n",
        "headers = {\n",
        "    'Authorization': f\"Bearer {api_key}\",\n",
        "    'Accept': 'application/xml'\n",
        "}\n",
        "\n",
        "def make_request(siren_number, headers):\n",
        "    \"\"\"Effectuer une requête GET vers l'API INSEE et retourner le contenu XML.\"\"\"\n",
        "    try:\n",
        "        url = f\"https://api.insee.fr/series/BDM/V1/data/SERIES_BDM/{siren_number}\"\n",
        "        time.sleep(3)  # limit rate\n",
        "        response = requests.get(url, headers=headers)\n",
        "        response.raise_for_status()  # raise an error for status 4xx and 5xx\n",
        "        return etree.XML(response.content)\n",
        "    except requests.exceptions.HTTPError as errh:\n",
        "        if errh.response.status_code == 401:\n",
        "            print(\"Erreur HTTP 401 : Non autorisé. Vérifiez les informations d'authentification.\")\n",
        "            sys.exit(1)\n",
        "        else:\n",
        "            print(f\"Erreur HTTP: {errh}\")\n",
        "    except requests.exceptions.ConnectionError as errc:\n",
        "        print(f\"Erreur de Connexion: {errc}\")\n",
        "    except requests.exceptions.Timeout as errt:\n",
        "        print(f\"Timeout: {errt}\")\n",
        "    except requests.exceptions.RequestException as err:\n",
        "        print(f\"Erreur lors de la requête: {err}\")\n",
        "    return None\n",
        "\n",
        "def xml_to_dataframe(root):\n",
        "    \"\"\"Transformer le contenu XML en DataFrame.\"\"\"\n",
        "    data = []\n",
        "    try:\n",
        "        if root is not None:\n",
        "            for elem in root[1]:\n",
        "                for obs in elem:\n",
        "                    attributes = obs.attrib\n",
        "                    data.append(attributes)\n",
        "            return pd.DataFrame(data)\n",
        "    except Exception as e:\n",
        "        print(f\"Erreur lors du traitement du XML: {e}\")\n",
        "    return pd.DataFrame()\n",
        "\n",
        "def create_sheet(workbook, df, siren_number, title):\n",
        "    \"\"\"Créer et remplir une feuille dans un classeur Excel.\"\"\"\n",
        "    try:\n",
        "        if not df.empty:\n",
        "            worksheet = workbook.create_sheet(title=siren_number)\n",
        "            config_sheet(worksheet, df, title)\n",
        "        else:\n",
        "            print(f\"Pas de données pour {siren_number}\")\n",
        "    except Exception as e:\n",
        "        print(f\"Erreur lors de la création de la feuille Excel pour {siren_number}: {e}\")\n",
        "\n",
        "def config_sheet(worksheet, df, title):\n",
        "    \"\"\"Configurer les titres et en-têtes de la feuille Excel.\"\"\"\n",
        "    try:\n",
        "        worksheet.cell(row=1, column=8, value=title).alignment = openpyxl.styles.Alignment(horizontal='center', vertical='center', wrap_text=True)\n",
        "        worksheet.merge_cells(start_row=1, start_column=8, end_row=1, end_column=17)\n",
        "\n",
        "        for col_idx, column_name in enumerate(df.columns, start=1):\n",
        "            worksheet.cell(row=2, column=col_idx, value=column_name)\n",
        "\n",
        "        for row_idx, row_data in enumerate(df.to_numpy().tolist(), start=3):\n",
        "            for col_idx, cell_value in enumerate(row_data, start=1):\n",
        "                worksheet.cell(row=row_idx, column=col_idx, value=cell_value)\n",
        "\n",
        "    except Exception as e:\n",
        "        print(f\"Erreur lors de la configuration de la feuille: {e}\")\n",
        "\n",
        "def main(liste_siren, liste_noms):\n",
        "    \"\"\"Fonction principale pour la création du fichier excel.\"\"\"\n",
        "    workbook = openpyxl.Workbook()\n",
        "    liste_ko_siren = []  # Liste pour garder une trace des SIREN pour lesquels la requête a échoué\n",
        "\n",
        "    for siren_number, title in zip(liste_siren, liste_noms):\n",
        "        xml_data = make_request(siren_number, headers)\n",
        "\n",
        "        if xml_data is not None:\n",
        "            df = xml_to_dataframe(xml_data)\n",
        "            \n",
        "            if not df.empty:\n",
        "                create_sheet(workbook, df, siren_number, title)\n",
        "            else:\n",
        "                print(f\"Aucune donnée trouvée pour {siren_number}. Ajout à la liste des échecs.\")\n",
        "                liste_ko_siren.append(siren_number)\n",
        "        else:\n",
        "            liste_ko_siren.append(siren_number)\n",
        "\n",
        "    if \"Sheet\" in workbook.sheetnames:\n",
        "        workbook.remove(workbook[\"Sheet\"])  # Supprimer la feuille par défaut si elle existe encore\n",
        "\n",
        "    output_file = \"indicateurs_prix.xlsx\"\n",
        "    workbook.save(output_file)\n",
        "    print(f\"Le fichier {output_file} a été généré avec succès.\")\n",
        "\n",
        "    if liste_ko_siren:\n",
        "        print(\"Les requêtes pour les SIREN suivants ont échoué ou n'ont retourné aucune donnée :\")\n",
        "        for siren in liste_ko_siren:\n",
        "            print(siren)\n",
        "\n",
        "\n",
        "main(liste_siren2, liste_nom_indicateurs2)\n",
        "\n"
      ]
    },
    {
      "cell_type": "markdown",
      "metadata": {},
      "source": [
        "# XSLSX Writter dans Pandas\n",
        "\n",
        "https://xlsxwriter.readthedocs.io/working_with_pandas.html"
      ]
    },
    {
      "cell_type": "code",
      "execution_count": 37,
      "metadata": {},
      "outputs": [],
      "source": [
        "import xlsxwriter \n",
        "df = pd.DataFrame({\n",
        "    'Categories': ['Catégorie 1', 'Catégorie 2', 'Catégorie 3'],\n",
        "    'Valeurs': [10, 20, 30]\n",
        "})\n",
        "\n",
        "\n",
        "with pd.ExcelWriter('fichier_spécifique.xlsx', engine='xlsxwriter') as writer:\n",
        "    df.to_excel(writer, sheet_name='Feuille1', index=False)\n",
        "\n",
        "   \n",
        "    workbook = writer.book\n",
        "    worksheet = writer.sheets['Feuille1']\n",
        "\n",
        "    \n",
        "    worksheet.write('E1', 'Titre du document')\n",
        "\n",
        "    # Ajouter un graphique à la feuille\n",
        "    chart = workbook.add_chart({'type': 'column'})\n",
        "\n",
        "    # Sélection des données\n",
        "    chart.add_series({\n",
        "        'name':       'Valeurs',\n",
        "        'categories': '=Feuille1!$A$2:$A$4',\n",
        "        'values':     '=Feuille1!$B$2:$B$4',\n",
        "    })\n",
        "\n",
        "    # Style du graphique\n",
        "    chart.set_title({'name': 'Exemple de Graphique'})\n",
        "    chart.set_x_axis({'name': 'Catégories'})\n",
        "    chart.set_y_axis({'name': 'Valeurs'})\n",
        "\n",
        "    \n",
        "    worksheet.insert_chart('D2', chart)"
      ]
    }
  ],
  "metadata": {
    "kernel_info": {
      "name": "python38-azureml"
    },
    "kernelspec": {
      "display_name": ".venv",
      "language": "python",
      "name": "python3"
    },
    "language_info": {
      "codemirror_mode": {
        "name": "ipython",
        "version": 3
      },
      "file_extension": ".py",
      "mimetype": "text/x-python",
      "name": "python",
      "nbconvert_exporter": "python",
      "pygments_lexer": "ipython3",
      "version": "3.12.1"
    },
    "microsoft": {
      "host": {
        "AzureML": {
          "notebookHasBeenCompleted": true
        }
      },
      "ms_spell_check": {
        "ms_spell_check_language": "en"
      }
    },
    "nteract": {
      "version": "nteract-front-end@1.0.0"
    }
  },
  "nbformat": 4,
  "nbformat_minor": 2
}
